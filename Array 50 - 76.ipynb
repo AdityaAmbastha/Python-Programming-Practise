{
 "cells": [
  {
   "cell_type": "code",
   "execution_count": 2,
   "id": "f3fffa1c-265a-4522-8a36-500c41c4646a",
   "metadata": {},
   "outputs": [
    {
     "name": "stdin",
     "output_type": "stream",
     "text": [
      " 5\n",
      " 1 5 6 8 3\n"
     ]
    },
    {
     "name": "stdout",
     "output_type": "stream",
     "text": [
      "14\n"
     ]
    }
   ],
   "source": [
    "# 50 - Print the max sum of two consecutive numbers from the given N numbers\n",
    "n = input()\n",
    "num = list(map(int, input().split()))\n",
    "sums = 0\n",
    "for i in range(len(num)-1):\n",
    "    add = num[i] + num[i+1]\n",
    "    if sums < add:\n",
    "        sums = add\n",
    "print(sums)"
   ]
  },
  {
   "cell_type": "code",
   "execution_count": 1,
   "id": "d29ccb96-14d2-40fc-8e3e-3538eab1a323",
   "metadata": {},
   "outputs": [
    {
     "name": "stdin",
     "output_type": "stream",
     "text": [
      " 7\n",
      " 1 2 3 4 6 0 0\n"
     ]
    },
    {
     "name": "stdout",
     "output_type": "stream",
     "text": [
      "1\n"
     ]
    }
   ],
   "source": [
    "# 52 - You are given given task is to print whether array is ‘majestic’ or not.\n",
    "# A ‘majsetic’ array is an array whose sum of first three number is equal to last three number.\n",
    "\n",
    "n = int(input())\n",
    "num = list(map(int, input().split()))\n",
    "sum1 = 0\n",
    "sum2 = 0\n",
    "# Check if there are at least 3 numbers\n",
    "if n < 3:\n",
    "    print(\"Not enough numbers to compare.\")\n",
    "else:\n",
    "    sum1 = sum(num[ :3])  # Sum of the first three numbers\n",
    "    sum2 = sum(num[-3:])  # Sum of the last three numbers\n",
    "\n",
    "if sum1 == sum2:\n",
    "    print(1)\n",
    "else:\n",
    "    print(0)\n"
   ]
  },
  {
   "cell_type": "code",
   "execution_count": 3,
   "id": "2c5777c3-83b6-4c0f-b9c3-d3ff201a694b",
   "metadata": {},
   "outputs": [
    {
     "name": "stdin",
     "output_type": "stream",
     "text": [
      " XCODE\n"
     ]
    },
    {
     "name": "stdout",
     "output_type": "stream",
     "text": [
      "XOE CD\n"
     ]
    }
   ],
   "source": [
    "# 54 - Given a string S, print 2 strings such that first string containing all characters in odd position(s) and \n",
    "# other containing all characters in even position(s).\n",
    "s = input()\n",
    "length = len(s)\n",
    "odd = ''\n",
    "even = ''\n",
    "for i in range(length):\n",
    "    if i % 2 == 0:\n",
    "        even += s[i]\n",
    "    elif i%2 !=0:\n",
    "        odd += s[i]\n",
    "print(f\"{even} {odd}\")"
   ]
  },
  {
   "cell_type": "code",
   "execution_count": 4,
   "id": "9fdd280b-a5ae-4f83-b46f-816f3585be74",
   "metadata": {},
   "outputs": [
    {
     "name": "stdin",
     "output_type": "stream",
     "text": [
      " 5\n",
      " 1 1 2 5 5\n"
     ]
    },
    {
     "name": "stdout",
     "output_type": "stream",
     "text": [
      "2\n"
     ]
    }
   ],
   "source": [
    "#55 - Print out the singly occurring number.\n",
    "n = input()\n",
    "num = list(map(int, input().split()))\n",
    "freq = {} \n",
    "for i in range(len(num)):\n",
    "    if num[i] in freq:\n",
    "        freq[num[i]] += 1\n",
    "    else:\n",
    "        freq[num[i]] = 1\n",
    "for k,v in freq.items():\n",
    "    if v == 1:\n",
    "        print(k)"
   ]
  },
  {
   "cell_type": "code",
   "execution_count": 5,
   "id": "e48dbee0-d21e-41f7-956b-88ba80730fbb",
   "metadata": {},
   "outputs": [
    {
     "name": "stdin",
     "output_type": "stream",
     "text": [
      " 5 3\n",
      " 1 2 1 4 1\n"
     ]
    },
    {
     "name": "stdout",
     "output_type": "stream",
     "text": [
      "1 1 1 2\n"
     ]
    }
   ],
   "source": [
    "#57 - Given 2 numbers N,K followed by N elements print all the elements lesser than K in sorted order.If the elements could not be found print -1\n",
    "n, k = map(int, input().split())\n",
    "num = list(map(int, input().split()))\n",
    "num.sort()\n",
    "res = []\n",
    "for i in num:\n",
    "    if i < k:\n",
    "        res.append(i)\n",
    "if len(res) == 0:\n",
    "    print(-1)\n",
    "else:\n",
    "    print(*res)"
   ]
  },
  {
   "cell_type": "code",
   "execution_count": 6,
   "id": "015fdee6-f76a-46bc-a04d-7e961186e680",
   "metadata": {},
   "outputs": [
    {
     "name": "stdin",
     "output_type": "stream",
     "text": [
      " 5\n",
      " 1 2 3 -2 5\n"
     ]
    },
    {
     "name": "stdout",
     "output_type": "stream",
     "text": [
      "9\n"
     ]
    }
   ],
   "source": [
    "# 58 - You are given a number 'n'. Next line contains n space separated numbers.\n",
    "n = input()\n",
    "num = list(map(int, input().split()))\n",
    "sum = 0\n",
    "for i in num:\n",
    "    sum += i\n",
    "if sum < -1:\n",
    "    print(-1)\n",
    "else:\n",
    "    print(sum)"
   ]
  },
  {
   "cell_type": "code",
   "execution_count": 7,
   "id": "c12092db-a312-4387-b9ee-0f7e423fca92",
   "metadata": {},
   "outputs": [
    {
     "name": "stdin",
     "output_type": "stream",
     "text": [
      " 5 4\n",
      " 1 2 3 4 5\n",
      " 1 2 3 4\n"
     ]
    },
    {
     "name": "stdout",
     "output_type": "stream",
     "text": [
      "1 1 2 2 3 3 4 4 5\n"
     ]
    }
   ],
   "source": [
    "# 60 - Given 2 array of size N and M.merge them in sorted order and print it.\n",
    "n, m = map(int, input().split())\n",
    "num1 = list(map(int, input().split()))\n",
    "num2 = list(map(int, input().split()))\n",
    "num = num1+num2\n",
    "num.sort()\n",
    "print(*num)"
   ]
  },
  {
   "cell_type": "code",
   "execution_count": 11,
   "id": "21127d6b-04df-41d2-81de-026e1eb45a90",
   "metadata": {},
   "outputs": [
    {
     "name": "stdin",
     "output_type": "stream",
     "text": [
      " 2 3\n",
      " 1 2\n"
     ]
    },
    {
     "name": "stdout",
     "output_type": "stream",
     "text": [
      "2 1\n"
     ]
    }
   ],
   "source": [
    "# 62 - Given two numbers N,K followed by an array of N elements, print the array after doing right shift K times (in cyclic manner).\n",
    "n, k = map(int, input().split())\n",
    "a = list(map(int, input().split()))\n",
    "k = k%n\n",
    "print(*(a[-k:]+a[:-k]))\n"
   ]
  },
  {
   "cell_type": "code",
   "execution_count": 12,
   "id": "6c0c00fc-3dd4-495a-ab3a-1b57c466ae22",
   "metadata": {},
   "outputs": [
    {
     "name": "stdin",
     "output_type": "stream",
     "text": [
      " 5\n",
      " kabali\n",
      " kaabli\n",
      " kababa\n",
      " kab\n",
      " kabail\n"
     ]
    },
    {
     "name": "stdout",
     "output_type": "stream",
     "text": [
      "3\n"
     ]
    }
   ],
   "source": [
    "# 66 - Given a number N and an array of N strings, find the number of strings that are an anagram of 'kabali'.\n",
    "# If there exists no anagram for the given string print '0'.\n",
    "'''\n",
    "INPUT:\n",
    "5\n",
    "kabali\n",
    "kaabli\n",
    "kababa\n",
    "kab\n",
    "kabail\n",
    "OUTPUT:\n",
    "3\n",
    "'''\n",
    "st = []\n",
    "st1 = 'kabali'\n",
    "l1 = []\n",
    "l1[:] = st1\n",
    "l1.sort()\n",
    "n = int(input())\n",
    "count = 0\n",
    "for i in range(n):\n",
    "  line = input()\n",
    "  st.append(line)\n",
    "for i in st:\n",
    "  l2 = []\n",
    "  l2[:] = i\n",
    "  l2.sort()\n",
    "  if (len(l1) == len(i)) and (l1 == l2):\n",
    "    \n",
    "    count += 1\n",
    "  else:\n",
    "    pass\n",
    "print(count)"
   ]
  },
  {
   "cell_type": "code",
   "execution_count": 13,
   "id": "74e1dd32-b316-4a61-bfec-56e3cf3e5ce8",
   "metadata": {},
   "outputs": [
    {
     "name": "stdin",
     "output_type": "stream",
     "text": [
      " RADAR\n"
     ]
    },
    {
     "name": "stdout",
     "output_type": "stream",
     "text": [
      "UDGDU\n"
     ]
    }
   ],
   "source": [
    "# Given a string S, print the encoded string by adding 3 to each character(a maps to d,b maps to e,c maps to f and so on).\n",
    "'''\n",
    "INPUT:\n",
    "RADAR\n",
    "OUTPUT:\n",
    "UDGDU\n",
    "'''\n",
    "s = input()\n",
    "new_s = ''\n",
    "k = 3\n",
    "for i in range(len(s)):\n",
    "  val = ord(s[i])\n",
    "  dup = k\n",
    "  if (k+val) > 90:\n",
    "    k = k - (90-val)\n",
    "    k = k%26\n",
    "    new_s = new_s + chr(64 + k)\n",
    "  else:\n",
    "    new_s = new_s + chr(val + k)\n",
    "  k = dup\n",
    "print(new_s)\n",
    "\n"
   ]
  },
  {
   "cell_type": "code",
   "execution_count": 14,
   "id": "111709b0-36fb-48b0-8270-378f0ec87dc5",
   "metadata": {},
   "outputs": [
    {
     "name": "stdin",
     "output_type": "stream",
     "text": [
      " codekata\n"
     ]
    },
    {
     "name": "stdout",
     "output_type": "stream",
     "text": [
      "ocedakat\n"
     ]
    }
   ],
   "source": [
    "# Given a string 'S' swap the even and odd characters starting from index 1(Assume the index starts from 0).\n",
    "'''\n",
    "INPUT:\n",
    "codekata\n",
    "OUTPUT:\n",
    "ocedakat\n",
    "'''\n",
    "s = input()\n",
    "st = []\n",
    "st[:] = s\n",
    "temp = ''\n",
    "for i in range(0,len(s),2):\n",
    "    temp = st[i]\n",
    "    st[i] = st[i+1]\n",
    "    st[i+1] = temp\n",
    "print(''.join(st))"
   ]
  },
  {
   "cell_type": "code",
   "execution_count": 16,
   "id": "a4989b77-9e9e-4a5c-918b-e957f3eff327",
   "metadata": {},
   "outputs": [
    {
     "name": "stdin",
     "output_type": "stream",
     "text": [
      " 0 0\n",
      " 2 2\n",
      " 5 5\n"
     ]
    },
    {
     "name": "stdout",
     "output_type": "stream",
     "text": [
      "yes\n"
     ]
    }
   ],
   "source": [
    "# Given 3 points check whether they lie on the same line (collinear).If they lie on the same line print 'yes' Otherwise print 'no'.\n",
    "'''\n",
    "INPUT\n",
    "0 1\n",
    "0 0\n",
    "0 2\n",
    "OUTPUT\n",
    "yes\n",
    "'''\n",
    "x1, y1 = map(int,input().split())\n",
    "x2, y2 = map(int,input().split())\n",
    "x3, y3 = map(int,input().split())\n",
    "a = x1 * (y2 - y3) + x2 * (y3 - y1) + x3 * (y1 - y2)\n",
    "\n",
    "if (a == 0):\n",
    "    print (\"yes\")\n",
    "else:\n",
    "    print (\"no\")"
   ]
  },
  {
   "cell_type": "code",
   "execution_count": 17,
   "id": "7e911027-3281-4a18-b8e3-1719810643aa",
   "metadata": {},
   "outputs": [
    {
     "name": "stdin",
     "output_type": "stream",
     "text": [
      " codekata\n"
     ]
    },
    {
     "name": "stdout",
     "output_type": "stream",
     "text": [
      "tkdc\n"
     ]
    }
   ],
   "source": [
    "# Given a string S, print the reverse of the string after removing the vowels.If the resulting string is empty print '-1'.\n",
    "'''\n",
    "INPUT:\n",
    "codekata\n",
    "OUTPUT:\n",
    "tkdc\n",
    "'''\n",
    "s = input()\n",
    "s = s[::-1]\n",
    "st = ''\n",
    "for i in s:\n",
    "    if i not in ['a', 'e', 'i', 'o', 'u']:\n",
    "        st += i\n",
    "\n",
    "if st == '':\n",
    "    print(-1)\n",
    "else:\n",
    "    print(st)"
   ]
  },
  {
   "cell_type": "code",
   "execution_count": 20,
   "id": "03f4da1a-9f15-45d4-8aad-7cc86d9898e1",
   "metadata": {},
   "outputs": [
    {
     "name": "stdin",
     "output_type": "stream",
     "text": [
      " 5\n",
      " 5 5 5 5 5\n"
     ]
    },
    {
     "name": "stdout",
     "output_type": "stream",
     "text": [
      "-1\n"
     ]
    }
   ],
   "source": [
    "# Given a number N followed by N elements, find the second smallest element.If it cannot be found then print -1\n",
    "n = input()\n",
    "num = list(map(int, input().split()))\n",
    "num.sort()\n",
    "minimum = min(num)\n",
    "min_2 = 0\n",
    "for i in range(len(num)):\n",
    "    if num[i] > minimum:\n",
    "        min_2 = num[i]\n",
    "        break\n",
    "    else:\n",
    "        min_2 = -1\n",
    "print(min_2)"
   ]
  },
  {
   "cell_type": "code",
   "execution_count": 4,
   "id": "5edc8a49-634f-4ace-a5c0-a2acbfedf988",
   "metadata": {},
   "outputs": [
    {
     "name": "stdin",
     "output_type": "stream",
     "text": [
      " 5 4\n",
      " 1 2 3 4 5\n"
     ]
    },
    {
     "name": "stdout",
     "output_type": "stream",
     "text": [
      "1\n"
     ]
    }
   ],
   "source": [
    "# array 73 - Given 2 numbers N,K print the array after deleting the last K elements\n",
    "n, k = map(int, input().split())\n",
    "num = list(map(int, input().split()))\n",
    "num1 = num[:-k]\n",
    "print(*num1)"
   ]
  },
  {
   "cell_type": "code",
   "execution_count": 5,
   "id": "a0cc03fb-8e21-408b-8eae-d69cb4d60144",
   "metadata": {},
   "outputs": [
    {
     "name": "stdin",
     "output_type": "stream",
     "text": [
      " 5\n"
     ]
    },
    {
     "name": "stdout",
     "output_type": "stream",
     "text": [
      "101"
     ]
    }
   ],
   "source": [
    "#74 - Given a number N in decimal convert it into binary value.\n",
    "num = int(input())\n",
    "temp = 0\n",
    "bin = 0\n",
    "binary = []\n",
    "while (num>=1):\n",
    "    temp = num//2\n",
    "    bin = num%2\n",
    "    num = temp\n",
    "    binary.append(bin)\n",
    "rev_binary = binary[::-1]\n",
    "for i in range(len(binary)):\n",
    "  print(rev_binary[i], end = '')"
   ]
  },
  {
   "cell_type": "code",
   "execution_count": 6,
   "id": "d764bbe2-65c9-495d-9818-b693f705ac74",
   "metadata": {},
   "outputs": [
    {
     "name": "stdin",
     "output_type": "stream",
     "text": [
      " 1100100\n"
     ]
    },
    {
     "name": "stdout",
     "output_type": "stream",
     "text": [
      "144\n"
     ]
    }
   ],
   "source": [
    "# 76 - Given a binary number convert it into octal format.\n",
    "binary_num = input()\n",
    "while len(binary_num) % 3 != 0:\n",
    "        binary_num = '0' + binary_num\n",
    "\n",
    "binary_to_octal_dict = {\n",
    "    '000': '0',\n",
    "    '001': '1',\n",
    "    '010': '2',\n",
    "    '011': '3',\n",
    "    '100': '4',\n",
    "    '101': '5',\n",
    "    '110': '6',\n",
    "    '111': '7'\n",
    "}\n",
    "\n",
    "octal_num = ''\n",
    "for i in range(0, len(binary_num), 3):\n",
    "    triplet = binary_num[i:i + 3]\n",
    "    octal_num += binary_to_octal_dict[triplet]\n",
    "\n",
    "print(octal_num.lstrip('0'))"
   ]
  },
  {
   "cell_type": "code",
   "execution_count": null,
   "id": "c69f8a20-f413-4deb-93d9-9b39a2570f80",
   "metadata": {},
   "outputs": [],
   "source": []
  }
 ],
 "metadata": {
  "kernelspec": {
   "display_name": "Python 3 (ipykernel)",
   "language": "python",
   "name": "python3"
  },
  "language_info": {
   "codemirror_mode": {
    "name": "ipython",
    "version": 3
   },
   "file_extension": ".py",
   "mimetype": "text/x-python",
   "name": "python",
   "nbconvert_exporter": "python",
   "pygments_lexer": "ipython3",
   "version": "3.11.7"
  }
 },
 "nbformat": 4,
 "nbformat_minor": 5
}
