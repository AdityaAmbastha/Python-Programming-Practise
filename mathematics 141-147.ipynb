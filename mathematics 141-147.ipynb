{
 "cells": [
  {
   "cell_type": "code",
   "execution_count": 2,
   "id": "1a774226-efe4-412e-b6b1-b604116bcd44",
   "metadata": {},
   "outputs": [
    {
     "name": "stdin",
     "output_type": "stream",
     "text": [
      " 359046\n"
     ]
    },
    {
     "name": "stdout",
     "output_type": "stream",
     "text": [
      "359064\n"
     ]
    }
   ],
   "source": [
    "# math - 1411 - Given a number N, find the smallest number which is greater than N with the same digits in N. If N is the greatest digit print 'impossible'.\n",
    "import sys\n",
    "\n",
    "# Read input and convert to list of characters\n",
    "a = list(input())\n",
    "length = len(a)\n",
    "\n",
    "# Initialize a variable to track if a valid swap point is found\n",
    "count = 0\n",
    "\n",
    "# Step 1: Find the first digit that is smaller than the digit next to it from the end\n",
    "for i in range(length-2, -1, -1):\n",
    "    if a[i] < a[i+1]:\n",
    "        break\n",
    "    else:\n",
    "        count += 1\n",
    "\n",
    "# Step 2: Find the smallest digit on right side of i which is larger than a[i]\n",
    "for j in range(length-1, i, -1):\n",
    "    if a[j] > a[i]:\n",
    "        break\n",
    "\n",
    "# Step 3: Swap the digits at i and j\n",
    "a[i], a[j] = a[j], a[i]\n",
    "\n",
    "# Step 4: Reverse the sequence after position i\n",
    "a = a[:i+1] + a[i+1:][::-1]\n",
    "\n",
    "if count == length - 1:\n",
    "    print('impossible') # If no such digit is found, print 'impossible'\n",
    "else:\n",
    "    print(''.join(a)) # Print the result\n"
   ]
  },
  {
   "cell_type": "code",
   "execution_count": 3,
   "id": "ebc22b78-174b-4d36-8af4-626f610b50c3",
   "metadata": {},
   "outputs": [
    {
     "name": "stdin",
     "output_type": "stream",
     "text": [
      " 689\n"
     ]
    },
    {
     "name": "stdout",
     "output_type": "stream",
     "text": [
      "15\n"
     ]
    }
   ],
   "source": [
    "# math - 143 -  Given an amount A(integer) find the number of currency notes required to make the amount up in the most optimal way. \n",
    "# The available denominations are 1000,500,100,50,10,1. eg: rs 689 (* currency notes are 500,100,50,10,1 )\n",
    "# 500+100+50+(3*10)+(9*1)\n",
    "# count=15\n",
    "a = int(input())\n",
    "notes = [1000, 500, 100, 50, 10, 1]\n",
    "count = 0\n",
    "\n",
    "for note in notes:\n",
    "    if a >= note:\n",
    "        count += a // note  # Add the number of notes of this denomination\n",
    "        a %= note           # Update `a` to the remainder after using this denomination\n",
    "\n",
    "print(count)\n"
   ]
  },
  {
   "cell_type": "code",
   "execution_count": 4,
   "id": "547228c4-fb34-464d-8ba6-db95f9cb0aac",
   "metadata": {},
   "outputs": [
    {
     "name": "stdin",
     "output_type": "stream",
     "text": [
      " 12321\n"
     ]
    },
    {
     "name": "stdout",
     "output_type": "stream",
     "text": [
      "NO\n"
     ]
    }
   ],
   "source": [
    "# math - 145 -  Given an integer N, find if it is divisible by 11\n",
    "n = list(input())\n",
    "sum1 = 0\n",
    "sum2 = 0\n",
    "for i in range(len(n)):\n",
    "    if i % 2 == 0:\n",
    "        sum1 += int(n[i])\n",
    "    elif i % 2 != 0:\n",
    "        sum2 += int(n[i])\n",
    "if abs(sum1-sum2) == 0 or abs(sum1-sum2) % 11 == 0:\n",
    "    print('YES')\n",
    "else:\n",
    "    print('NO')"
   ]
  },
  {
   "cell_type": "code",
   "execution_count": 5,
   "id": "4e6ff428-ce2d-43c5-b8c1-cc89a7b8de10",
   "metadata": {},
   "outputs": [
    {
     "name": "stdin",
     "output_type": "stream",
     "text": [
      " arun#12#12#12\n",
      " deepak#13#12#12\n"
     ]
    },
    {
     "name": "stdout",
     "output_type": "stream",
     "text": [
      "deepak\n"
     ]
    }
   ],
   "source": [
    "# math - 146 -  Given an arraylist A of string type which has name#mark1#mark2#mark3 format. \n",
    "# Retrieve the name of the student who has scored max marks(total of three).\n",
    "# for eg: input: {'arun#12#12#12','deepak#13#12#12'}\n",
    "# output: Deepak\n",
    "data1 = input()\n",
    "data2 = input()\n",
    "sum1 = int(data1[-1:-3:-1][::-1])+int(data1[-4:-6:-1][::-1])+int(data1[-7:-9:-1][::-1])\n",
    "sum2 = int(data2[-1:-3:-1][::-1])+int(data2[-4:-6:-1][::-1])+int(data2[-7:-9:-1][::-1])\n",
    "if sum1 > sum2:\n",
    "    print(data1[-10::-1][::-1])\n",
    "else:\n",
    "    print(data2[-10::-1][::-1])"
   ]
  },
  {
   "cell_type": "code",
   "execution_count": 6,
   "id": "a044c9a3-a31f-4adc-9967-c1cf836ae064",
   "metadata": {},
   "outputs": [
    {
     "name": "stdin",
     "output_type": "stream",
     "text": [
      " 5\n",
      " 6 7 11 5 9\n"
     ]
    },
    {
     "name": "stdout",
     "output_type": "stream",
     "text": [
      "3\n"
     ]
    }
   ],
   "source": [
    "# math - 147 -  Nishant is a short heighted person. He is standing facing N pillars of different heights with ith pillar having height hi. \n",
    "# He tries to see all the possible pillars. He wants to know that how many buildings will he be able to see in the range.\n",
    "n = input()\n",
    "nums = list(map(int, input().split()))\n",
    "count = 0\n",
    "for i in range(len(nums)-1):\n",
    "    if nums[i]<nums[i+1]:\n",
    "        count += 1\n",
    "    else:\n",
    "        break\n",
    "if count == 0:\n",
    "    print (i+1)\n",
    "else:\n",
    "    print(count+1)"
   ]
  },
  {
   "cell_type": "code",
   "execution_count": null,
   "id": "0b9270db-a505-4e7a-97d7-0ff69985fe3e",
   "metadata": {},
   "outputs": [],
   "source": []
  }
 ],
 "metadata": {
  "kernelspec": {
   "display_name": "Python 3 (ipykernel)",
   "language": "python",
   "name": "python3"
  },
  "language_info": {
   "codemirror_mode": {
    "name": "ipython",
    "version": 3
   },
   "file_extension": ".py",
   "mimetype": "text/x-python",
   "name": "python",
   "nbconvert_exporter": "python",
   "pygments_lexer": "ipython3",
   "version": "3.11.7"
  }
 },
 "nbformat": 4,
 "nbformat_minor": 5
}
