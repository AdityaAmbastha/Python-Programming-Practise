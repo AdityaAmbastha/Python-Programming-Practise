{
 "cells": [
  {
   "cell_type": "code",
   "execution_count": 2,
   "id": "17063f43-b82f-4bb7-9d80-c81e38c2e8b1",
   "metadata": {},
   "outputs": [
    {
     "name": "stdin",
     "output_type": "stream",
     "text": [
      " 5\n"
     ]
    },
    {
     "name": "stdout",
     "output_type": "stream",
     "text": [
      "22\n"
     ]
    }
   ],
   "source": [
    "# - 118 - array - find the nth hyp number. A hyp number is a number whose all digits are prime.\n",
    "# Print the ‘nth’ hyp number.\n",
    "n = int(input())\n",
    "count = 0\n",
    "num = 1\n",
    "prime_digits = {'2', '3', '5', '7'}\n",
    "while count < n:\n",
    "    num += 1        \n",
    "    if all(digit in prime_digits for digit in str(num)):\n",
    "        count += 1\n",
    "if count == n:\n",
    "    print(num)"
   ]
  },
  {
   "cell_type": "code",
   "execution_count": null,
   "id": "d759ceff-810c-4180-acbb-dc6c1b6451f9",
   "metadata": {},
   "outputs": [],
   "source": [
    "# - 119 - array -Given 2 numbers N,X and an array of N elements, check if there exists any 2 numbers in the array with sum equal to X.If found print 'yes' otherwise print 'no'\n",
    "\n",
    "n, x =map(int,input().split())\n",
    "arr = list(map(int,input().split()))\n",
    "flag = False\n",
    "for i in range(len(arr)):\n",
    "    for j in range(i + 1, len(arr)):\n",
    "        if arr[i]+arr[j] == x:\n",
    "            flag = True\n",
    "            break\n",
    "    if flag == True:\n",
    "        break\n",
    "if flag == True:\n",
    "    print('yes')\n",
    "else:\n",
    "    print('no')"
   ]
  },
  {
   "cell_type": "code",
   "execution_count": 1,
   "id": "fcc406ad-e4fd-4d4a-b9d4-650fc471516d",
   "metadata": {},
   "outputs": [
    {
     "name": "stdin",
     "output_type": "stream",
     "text": [
      " 5\n",
      " 2 14 15 14 3\n"
     ]
    },
    {
     "name": "stdout",
     "output_type": "stream",
     "text": [
      "3 2\n"
     ]
    }
   ],
   "source": [
    "# 120 - array - Given a number N and an array of N elements, print all elements lesser than N in descending order.If no element found print -1\n",
    "n = int(input())\n",
    "arr = list(map(int,input().split()))\n",
    "res = []\n",
    "for i in arr:\n",
    "    if i < n:\n",
    "        res.append(i)\n",
    "res.sort(reverse=True)\n",
    "if len(res) > 0:\n",
    "    print(*res)\n",
    "else:\n",
    "    print(-1)"
   ]
  },
  {
   "cell_type": "code",
   "execution_count": 5,
   "id": "7f4266f4-d787-4cd5-b673-8a430f569978",
   "metadata": {},
   "outputs": [
    {
     "name": "stdin",
     "output_type": "stream",
     "text": [
      " 5\n",
      " 1 9 3 4 1\n"
     ]
    },
    {
     "name": "stdout",
     "output_type": "stream",
     "text": [
      "0\n"
     ]
    }
   ],
   "source": [
    "#124 - array - Given an array, find the absolute minimum difference between any two elements in the array.\n",
    "n = int(input())\n",
    "num = list(map(int, input().split()))\n",
    "min_diff = float('inf')\n",
    "for i in range(len(num)):\n",
    "    for j in range(i+1,len(num)):\n",
    "        min_diff = min(min_diff, abs(num[i] - num[j]))\n",
    "print(min_diff)\n"
   ]
  },
  {
   "cell_type": "code",
   "execution_count": null,
   "id": "b3b74288-6815-46ff-a1cc-8a7cb26571fa",
   "metadata": {},
   "outputs": [],
   "source": [
    "# 122 - array - Given a string S,count the maximum number of times a character repeated in the string.\n",
    "#If no character is repeated print '0'.\n",
    "s = input()\n",
    "st = []\n",
    "st[:] = s\n",
    "maximum = []\n",
    "for i in st:\n",
    "    maximum.append(st.count(i))\n",
    "print(max(maximum))"
   ]
  },
  {
   "cell_type": "code",
   "execution_count": null,
   "id": "d8649e58-57f7-4ec8-9a19-3b800f6a4cd4",
   "metadata": {},
   "outputs": [],
   "source": [
    "# 125 - array - Given two numbers L,R print the smallest number which is divisible by both L and R.\n",
    "l, r = map(int, input().split())\n",
    "max_num = max(l, r)\n",
    "current_num = max_num\n",
    "while True:\n",
    "    if current_num % l ==0 and current_num % r == 0:\n",
    "        print(current_num)\n",
    "        break\n",
    "    \n",
    "    current_num += max_num\n"
   ]
  },
  {
   "cell_type": "code",
   "execution_count": 2,
   "id": "0c89a3a7-79cf-4178-a6e4-000663336be3",
   "metadata": {},
   "outputs": [
    {
     "name": "stdin",
     "output_type": "stream",
     "text": [
      " guvi coding platform\n"
     ]
    },
    {
     "name": "stdout",
     "output_type": "stream",
     "text": [
      "gvui cnidog proftalm\n"
     ]
    }
   ],
   "source": [
    "# 126 - array - Given a string S consisting of a sentence, the task is to reverse every \n",
    "# word of the sentence except the first and last character of the words.\n",
    "string = list(map(str, input().split()))\n",
    "res = []\n",
    "\n",
    "for i in string:\n",
    "    if len(i) == 1:\n",
    "        res.append(i)\n",
    "    else:\n",
    "        first = i[0]\n",
    "        last = i[-1]\n",
    "        st_mid = i[1:-1]\n",
    "        st_rev = st_mid[::-1]  # Reverse the middle part of the string\n",
    "        res.append(first + st_rev + last)\n",
    "\n",
    "print(' '.join(res))"
   ]
  },
  {
   "cell_type": "code",
   "execution_count": 3,
   "id": "f09f4d0b-4f09-4426-9eca-d0f3b6a58ceb",
   "metadata": {},
   "outputs": [
    {
     "name": "stdin",
     "output_type": "stream",
     "text": [
      " codekata codeguvi 4\n"
     ]
    },
    {
     "name": "stdout",
     "output_type": "stream",
     "text": [
      "yes\n"
     ]
    }
   ],
   "source": [
    "# 127 - array - Given 2 strings and a number K, check whether they differ exactly by K characters.\n",
    "s1, s2, k = map(str, input().split())\n",
    "k = int(k)\n",
    "count = 0\n",
    "for i, j  in zip(s1, s2):\n",
    "    if i != j:\n",
    "        count += 1\n",
    "if count == k:\n",
    "    print('yes')\n",
    "else:\n",
    "    print('no')"
   ]
  },
  {
   "cell_type": "code",
   "execution_count": 19,
   "id": "01af5d8d-73d0-43c2-bb7f-2703d4db4601",
   "metadata": {},
   "outputs": [
    {
     "name": "stdin",
     "output_type": "stream",
     "text": [
      " 2\n",
      " 7\n",
      " 2 4 6 8 9 10 12\n",
      " 2 4 6 8 10 12\n",
      " 6\n",
      " 3 5 7 9 11 13\n",
      " 3 5 7 11 13\n"
     ]
    },
    {
     "name": "stdout",
     "output_type": "stream",
     "text": [
      "4 3\n"
     ]
    }
   ],
   "source": [
    "# 128 - array - The first line of input contains an integer T, denoting the no of test cases.\n",
    "# Return the package number of the corresponding package stolen from Batch B. The array index denotes the package number.\n",
    "# The first line of each test case contains an integer N, denoting the number of packages\n",
    "\n",
    "n = int(input())\n",
    "res = []\n",
    "for i in range(n):\n",
    "    m = int(input())\n",
    "    batch_a = list(map(int, input().split()))\n",
    "    batch_b = list(map(int, input().split()))\n",
    "    for index, value in enumerate(batch_a):\n",
    "        if value != batch_b[index]:\n",
    "            res.append(index)\n",
    "            break\n",
    "print(*res, sep = \"\\n\")"
   ]
  },
  {
   "cell_type": "code",
   "execution_count": 5,
   "id": "cefea76b-b85d-4ee4-b86b-893dab984949",
   "metadata": {},
   "outputs": [
    {
     "name": "stdin",
     "output_type": "stream",
     "text": [
      " 5 2\n",
      " 1 2 3 4 5\n",
      " 5 4\n"
     ]
    },
    {
     "name": "stdout",
     "output_type": "stream",
     "text": [
      "5 5\n"
     ]
    }
   ],
   "source": [
    "#129 - array - Given a number N and K followed by N elements and K elements. \n",
    "# Now insert the given K elements one by one into the array and print the maximum in the array after each insertion .\n",
    "n, k = map(int, input().split())\n",
    "n_elements = list(map(int, input().split()))\n",
    "m_elements = list(map(int, input().split()))\n",
    "maximum= []\n",
    "for i in m_elements:\n",
    "    n_elements.append(i)\n",
    "    maximum.append(max(n_elements))\n",
    "print(*maximum)"
   ]
  },
  {
   "cell_type": "code",
   "execution_count": 4,
   "id": "99b86e36-2255-4782-ab9b-8cf86e4ce9e7",
   "metadata": {},
   "outputs": [
    {
     "name": "stdin",
     "output_type": "stream",
     "text": [
      " 2 10\n"
     ]
    },
    {
     "name": "stdout",
     "output_type": "stream",
     "text": [
      "2\n"
     ]
    }
   ],
   "source": [
    "# 130 - array - Given a range (i.e) two numbers L and R count the number of perfect squares \n",
    "# within the range (inclusive of L and R).If no perfect square exists within the range print '-1'.\n",
    "a, b = map(int, input().split())\n",
    "\n",
    "count = 0\n",
    "# Iterate through the numbers between sqrt(a) and sqrt(b)\n",
    "for i in range(int(a ** 0.5), int(b ** 0.5) + 1):\n",
    "    if i * i >= a and i * i <= b:\n",
    "        count += 1\n",
    "if count > 0:\n",
    "    print(count)\n",
    "else:\n",
    "    print(-1)"
   ]
  },
  {
   "cell_type": "code",
   "execution_count": 6,
   "id": "c97d7c61-a9ab-4ffd-9f40-b2a442f91b46",
   "metadata": {},
   "outputs": [
    {
     "name": "stdin",
     "output_type": "stream",
     "text": [
      " (())\n"
     ]
    },
    {
     "name": "stdout",
     "output_type": "stream",
     "text": [
      "yes\n"
     ]
    }
   ],
   "source": [
    "#131 - array - Given a string S consisting of only '(' and ')', print 'yes' if it is balanced otherwise print 'no'.\n",
    "s = input()\n",
    "st = []\n",
    "st[:] = s\n",
    "if st.count('(') == st.count(')'):\n",
    "    print('yes')\n",
    "else:\n",
    "    print('no')"
   ]
  },
  {
   "cell_type": "code",
   "execution_count": 7,
   "id": "275f1d63-bd99-4f77-bd2d-fc4d9307708d",
   "metadata": {},
   "outputs": [
    {
     "name": "stdin",
     "output_type": "stream",
     "text": [
      " 5\n",
      " 1 2 3 4 5\n"
     ]
    },
    {
     "name": "stdout",
     "output_type": "stream",
     "text": [
      "14\n"
     ]
    }
   ],
   "source": [
    "# 132 array - Given a number N and an array of N elements, find the sum of the maximum elements \n",
    "# obtained by considering all consecutive pairs of adjacent elements.\n",
    "n = input()\n",
    "arr = list(map(int, input().split()))\n",
    "sum_max_pairs = 0\n",
    "for i in range(len(arr)-1):\n",
    "    sum_max_pairs += max(arr[i], arr[i + 1])\n",
    "print(sum_max_pairs)"
   ]
  }
 ],
 "metadata": {
  "kernelspec": {
   "display_name": "Python 3 (ipykernel)",
   "language": "python",
   "name": "python3"
  },
  "language_info": {
   "codemirror_mode": {
    "name": "ipython",
    "version": 3
   },
   "file_extension": ".py",
   "mimetype": "text/x-python",
   "name": "python",
   "nbconvert_exporter": "python",
   "pygments_lexer": "ipython3",
   "version": "3.11.7"
  }
 },
 "nbformat": 4,
 "nbformat_minor": 5
}
