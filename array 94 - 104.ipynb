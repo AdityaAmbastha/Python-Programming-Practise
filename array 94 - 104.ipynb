{
 "cells": [
  {
   "cell_type": "code",
   "execution_count": 10,
   "id": "36dee4e8-8c04-4aca-89b4-f95eb58bbece",
   "metadata": {},
   "outputs": [
    {
     "name": "stdin",
     "output_type": "stream",
     "text": [
      " string 3\n"
     ]
    },
    {
     "name": "stdout",
     "output_type": "stream",
     "text": [
      "r g\n"
     ]
    }
   ],
   "source": [
    "# - 94 - array - Given a string and a number K.Print every kth character from the beginning.\n",
    "\n",
    "s, k = map(str, input().split())\n",
    "k = int(k)\n",
    "res = []\n",
    "for i in s[k-1::k]:\n",
    "    res.append(i)\n",
    "print(*res)\n",
    "    "
   ]
  },
  {
   "cell_type": "code",
   "execution_count": 9,
   "id": "7b9eb570-8b76-4dcd-8110-5620e587f0c7",
   "metadata": {},
   "outputs": [
    {
     "name": "stdin",
     "output_type": "stream",
     "text": [
      " 5 1\n",
      " 3 2 1 2 3\n"
     ]
    },
    {
     "name": "stdout",
     "output_type": "stream",
     "text": [
      "3\n"
     ]
    }
   ],
   "source": [
    "# 95 - array - Given a number N,K followed by array of N elements where the difference between any adjacent elements is 1. \n",
    "# Find the position of the given number K.If K not found in the array print -1\n",
    "n ,k = map(int, input().split())\n",
    "num = list(map(int, input().split()))\n",
    "count = 0\n",
    "for i in range(len(num)):\n",
    "    if num[i] == k:\n",
    "        count = i\n",
    "        break\n",
    "if count > 0:\n",
    "    print(i+1)\n",
    "else:\n",
    "    print(-1)"
   ]
  },
  {
   "cell_type": "code",
   "execution_count": 8,
   "id": "e94dd788-2eca-45ed-b68d-eb90b65714f0",
   "metadata": {},
   "outputs": [
    {
     "name": "stdin",
     "output_type": "stream",
     "text": [
      " 18\n"
     ]
    },
    {
     "name": "stdout",
     "output_type": "stream",
     "text": [
      "2\n"
     ]
    }
   ],
   "source": [
    "# 96 -array - Print the position of first 1 from right to left, in binary representation of an Integer.\n",
    "a = input()\n",
    "length = len(a)\n",
    "pos = 0\n",
    "for i in range(length):\n",
    "    if a[i] == '1':\n",
    "        pos = int(i)\n",
    "print(length - pos)"
   ]
  },
  {
   "cell_type": "code",
   "execution_count": 8,
   "id": "d364cbf0-aa9d-4efc-b6c1-5270d2cbc79a",
   "metadata": {},
   "outputs": [
    {
     "name": "stdin",
     "output_type": "stream",
     "text": [
      " 4\n",
      " 2 4 4 1\n"
     ]
    },
    {
     "name": "stdout",
     "output_type": "stream",
     "text": [
      "1\n",
      "11\n",
      "1\n"
     ]
    }
   ],
   "source": [
    "# 97 - array - Given a number N and an array of N integers, print the minimum sum of the sub-array from the given array.\n",
    "\n",
    "num = input()\n",
    "num = list(map(int, input().split()))\n",
    "min_sum = []\n",
    "sum_list = 0\n",
    "sum_min = 0\n",
    "for i in range(len(num)):    \n",
    "    sum_list += num[i]\n",
    "sum_min = min(num)\n",
    "if sum_list < 0:\n",
    "    print(sum_list)\n",
    "if sum_list > 0:\n",
    "    print(sum_min)"
   ]
  },
  {
   "cell_type": "code",
   "execution_count": null,
   "id": "4c8e22e7-e803-41c2-b88b-17df957f9486",
   "metadata": {},
   "outputs": [],
   "source": [
    "# 98 - array \n",
    "n = input()\n",
    "num = list(map(int, input().split()))\n",
    "freq = {}\n",
    "for i in range(len(num)):\n",
    "    if num[i] in freq:\n",
    "        freq[num[i]] += 1\n",
    "    else:\n",
    "        freq[num[i]] = 1\n",
    "#freq_sort = sorted(freq.items(), key = lambda x:x[1], reverse = True)\n",
    "min_freq = min(freq.values())\n",
    "for k, v in freq.items():\n",
    "    if v == min_freq:\n",
    "        print(k)"
   ]
  },
  {
   "cell_type": "code",
   "execution_count": 9,
   "id": "5d66c509-7c83-4552-a89f-47d277c1c4cd",
   "metadata": {},
   "outputs": [
    {
     "name": "stdin",
     "output_type": "stream",
     "text": [
      " 6\n",
      " 1 2 1 4 1 1\n"
     ]
    },
    {
     "name": "stdout",
     "output_type": "stream",
     "text": [
      "3\n"
     ]
    }
   ],
   "source": [
    "# 99 - array - Take an array A of size N. If A[i] occurs A[i + 1] times in the array, i is called a beautiful index. \n",
    "# Find the number of beautiful indices in the array. \n",
    "\n",
    "n = input()\n",
    "num = list(map(int, input().split()))\n",
    "count_n = 0\n",
    "for i in range(len(num) -1):\n",
    "    if num.count(num[i]) == num[i+1]:\n",
    "        count_n += 1\n",
    "print(count_n)"
   ]
  },
  {
   "cell_type": "code",
   "execution_count": 10,
   "id": "579a682c-a7b0-4f53-b519-dfbd3af1d129",
   "metadata": {},
   "outputs": [
    {
     "name": "stdin",
     "output_type": "stream",
     "text": [
      " 5\n",
      " P P A A A\n"
     ]
    },
    {
     "name": "stdout",
     "output_type": "stream",
     "text": [
      "Not Blacklisted\n"
     ]
    }
   ],
   "source": [
    "# 100 array - ‘Blacklisted’ if attendance is below 25% ‘Not Blacklisted’ if attendance is above 25%.\n",
    "n = input()\n",
    "attendence = list(map(str,input().split()))\n",
    "percent_attendence = int((attendence.count('P')/len(attendence))*100)\n",
    "if percent_attendence <= 25:\n",
    "    print('Blacklisted')\n",
    "else:\n",
    "    print('Not Blacklisted')"
   ]
  },
  {
   "cell_type": "code",
   "execution_count": 2,
   "id": "64d84788-4e50-47a1-a626-38b6cc48fb4d",
   "metadata": {},
   "outputs": [
    {
     "name": "stdin",
     "output_type": "stream",
     "text": [
      " 5\n",
      " 1 2 3 4 5\n"
     ]
    },
    {
     "name": "stdout",
     "output_type": "stream",
     "text": [
      "3 2 4 1 5\n"
     ]
    }
   ],
   "source": [
    "# 101 - array - You are given with an array of numbers.You have to print the middlemost element until the size of array becomes zero. \n",
    "# When n is odd print the (n/2)+1 index(indexing at 1)\n",
    "\n",
    "n = int(input())\n",
    "num = list(map(int, input().split()))\n",
    "ans = []\n",
    "for i in range(len(num)):\n",
    "    if len(num) % 2 == 1:\n",
    "        ans.append(num.pop(len(num)//2))\n",
    "    else:\n",
    "        ans.append(num.pop(len(num)//2 - 1))\n",
    "print(*ans)"
   ]
  },
  {
   "cell_type": "code",
   "execution_count": 3,
   "id": "b63a101d-eca8-419b-8be7-89ae830a0dac",
   "metadata": {},
   "outputs": [
    {
     "name": "stdin",
     "output_type": "stream",
     "text": [
      " 5\n",
      " 12 14 7 9 3\n"
     ]
    },
    {
     "name": "stdout",
     "output_type": "stream",
     "text": [
      "yes\n"
     ]
    }
   ],
   "source": [
    "# 102 - array - Given an array N, check if the values are alternating between increasing and decreasing.\n",
    "\n",
    "n = int(input())\n",
    "arr = list(map(int,input().split()))\n",
    "if arr[0] >= arr[1]:\n",
    "    is_increasing = False\n",
    "elif arr[0] < arr[1]:\n",
    "    is_increasing = True\n",
    "\n",
    "for i in range(1, n-1):\n",
    "    if is_increasing:\n",
    "        if arr[i] >= arr[i+1]:\n",
    "            flag = \"yes\"\n",
    "    else:\n",
    "        if arr[i] <= arr[i+1]:\n",
    "            flag = \"no\"\n",
    "    is_increasing = not is_increasing\n",
    "print(flag)"
   ]
  },
  {
   "cell_type": "code",
   "execution_count": 5,
   "id": "51e3e81a-33b7-42d5-9ef4-ab653d448f3e",
   "metadata": {},
   "outputs": [
    {
     "name": "stdin",
     "output_type": "stream",
     "text": [
      " 5 3\n",
      " code\n",
      " yh\n",
      " ad\n",
      " ad\n",
      " ad\n"
     ]
    },
    {
     "name": "stdout",
     "output_type": "stream",
     "text": [
      "yes\n"
     ]
    }
   ],
   "source": [
    "# 103 - array - Given 2 numbers N,K and an array of N strings, find if any K consecutive strings are same.\n",
    "n, k = map(int, input().split())\n",
    "names = []\n",
    "for i in range(n):\n",
    "    names.append(input())\n",
    "count = 0\n",
    "for i in range(n-1):\n",
    "    if names[i] == names[i+1]:\n",
    "        count += 1\n",
    "count += 1\n",
    "if count == k:\n",
    "    print('yes')\n",
    "else:\n",
    "    print('no')"
   ]
  },
  {
   "cell_type": "code",
   "execution_count": 7,
   "id": "0ada7477-01d4-4a84-957c-31e775738ae9",
   "metadata": {},
   "outputs": [
    {
     "name": "stdin",
     "output_type": "stream",
     "text": [
      " 5\n",
      " 3 5 4 4 7\n"
     ]
    },
    {
     "name": "stdout",
     "output_type": "stream",
     "text": [
      "4\n"
     ]
    }
   ],
   "source": [
    "# 104 - array - Given a number N and array of N integers, print the difference between the \n",
    "# indices of smallest and largest number(if there are multiple occurances, consider the first occurance).\n",
    "\n",
    "n = input()\n",
    "num = list(map(int,input().split()))\n",
    "minimum = min(num)\n",
    "maximum = max(num)\n",
    "print(num.index(maximum) - num.index(minimum))"
   ]
  },
  {
   "cell_type": "code",
   "execution_count": null,
   "id": "2c1c58c2-42cb-4ea0-bae3-ed1b6996fba3",
   "metadata": {},
   "outputs": [],
   "source": []
  }
 ],
 "metadata": {
  "kernelspec": {
   "display_name": "Python 3 (ipykernel)",
   "language": "python",
   "name": "python3"
  },
  "language_info": {
   "codemirror_mode": {
    "name": "ipython",
    "version": 3
   },
   "file_extension": ".py",
   "mimetype": "text/x-python",
   "name": "python",
   "nbconvert_exporter": "python",
   "pygments_lexer": "ipython3",
   "version": "3.11.7"
  }
 },
 "nbformat": 4,
 "nbformat_minor": 5
}
