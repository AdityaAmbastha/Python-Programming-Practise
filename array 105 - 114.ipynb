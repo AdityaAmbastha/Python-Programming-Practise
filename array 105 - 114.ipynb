{
 "cells": [
  {
   "cell_type": "code",
   "execution_count": 4,
   "id": "329fa199-10ec-49be-8e18-b2f7d8bf8a10",
   "metadata": {},
   "outputs": [
    {
     "name": "stdin",
     "output_type": "stream",
     "text": [
      " 4\n",
      " 2 4 6 8\n"
     ]
    },
    {
     "name": "stdout",
     "output_type": "stream",
     "text": [
      "24\n"
     ]
    }
   ],
   "source": [
    "# 105 - array - You are given an array of ‘n’ numbers.your task is to print the lcm of ‘n’ numbers\n",
    "from math import gcd\n",
    "n = input()\n",
    "a = list(map(int, input().split()))  \n",
    "lcm = 1\n",
    "for i in a:\n",
    "    lcm = lcm*i//gcd(lcm, i)\n",
    "print(lcm)"
   ]
  },
  {
   "cell_type": "code",
   "execution_count": 17,
   "id": "e4990aae-6a63-44c7-bfef-9306d6e7b5b8",
   "metadata": {},
   "outputs": [
    {
     "name": "stdin",
     "output_type": "stream",
     "text": [
      " 6\n",
      " 2 1 4 7 3 6\n"
     ]
    },
    {
     "name": "stdout",
     "output_type": "stream",
     "text": [
      "12\n"
     ]
    }
   ],
   "source": [
    "# 108 - array - print maximum sum value produced by the increasing sub array\n",
    "\n",
    "n = int(input())\n",
    "num = list(map(int, input().split()))\n",
    "\n",
    "sublists_list = []\n",
    "\n",
    "for i in range(len(num)):\n",
    "    for j in range(i + 1, len(num) + 1):\n",
    "        sublists_list.append(num[i:j])\n",
    "\n",
    "max_sum = float('-inf')  # Initialize the maximum sum to negative infinity\n",
    "\n",
    "for sublist in sublists_list:\n",
    "    is_increasing = True\n",
    "    for k in range(len(sublist) - 1):\n",
    "        if sublist[k] >= sublist[k + 1]:\n",
    "            is_increasing = False\n",
    "            break\n",
    "    \n",
    "    if is_increasing:\n",
    "        current_sum = sum(sublist)\n",
    "        if current_sum > max_sum:\n",
    "            max_sum = current_sum\n",
    "\n",
    "# If no increasing subarray is found, return 0; otherwise, return the max_sum\n",
    "result = max_sum if max_sum != float('-inf') else 0\n",
    "\n",
    "print(result)\n"
   ]
  },
  {
   "cell_type": "code",
   "execution_count": 18,
   "id": "44c68485-7f61-4e63-a435-211818ddf944",
   "metadata": {},
   "outputs": [
    {
     "name": "stdin",
     "output_type": "stream",
     "text": [
      " 5\n",
      " 1 2 3 4\n",
      " 4 3 2 1\n"
     ]
    },
    {
     "name": "stdout",
     "output_type": "stream",
     "text": [
      "yes\n"
     ]
    }
   ],
   "source": [
    "# 109 - array - Given 2 arrays print 'yes' if they are mirror images of each other,otherwise 'no'.\n",
    "\n",
    "n = int(input())\n",
    "num1 = list(map(int, input().split()))\n",
    "num2 = list(map(int, input().split()))\n",
    "for i,j in zip(num1,num2[::-1]):\n",
    "    if i != j:\n",
    "        flag = False\n",
    "        break\n",
    "    else:\n",
    "        flag = True\n",
    "if flag:\n",
    "    print('yes')\n",
    "else:\n",
    "    print('no')"
   ]
  },
  {
   "cell_type": "code",
   "execution_count": 23,
   "id": "5f8a1acd-b44b-42a6-9a9d-d5ee0ba369b2",
   "metadata": {},
   "outputs": [
    {
     "name": "stdin",
     "output_type": "stream",
     "text": [
      " 3\n",
      " 8 4 7\n"
     ]
    },
    {
     "name": "stdout",
     "output_type": "stream",
     "text": [
      "yes\n"
     ]
    }
   ],
   "source": [
    "# -112 - Given a number N, followed by an array of N elements,print 'yes' if it is a sorted array(either ascending or descending)otherwise print 'no'.\n",
    "n = int(input())\n",
    "num = list(map(int, input().split()))\n",
    "sort_a = False\n",
    "sort_d = False\n",
    "for i in range(len(num)-1):\n",
    "    if num[i] > num[i+1]:\n",
    "        sort_d = True\n",
    "    if num[i] < num[i+1]:\n",
    "        sort_a = True\n",
    "if sort_d == True or sort_a == True:\n",
    "    print('yes')\n",
    "else:\n",
    "    print('no')\n",
    "    "
   ]
  },
  {
   "cell_type": "code",
   "execution_count": null,
   "id": "7911deeb-db0a-4ed8-93a9-4e396068790f",
   "metadata": {},
   "outputs": [],
   "source": [
    "# 114 - array -Print the minimum number of swaps required to sort the students in line.\n",
    "n = input()\n",
    "num = list(map(int, input().split()))\n",
    "count = 0\n",
    "k = 0\n",
    "for i in range(len(num)):\n",
    "  if num[i] == min(num[i:]):\n",
    "    pass\n",
    "  else:\n",
    "    k = num.index(min(num))\n",
    "    temp = num[i]\n",
    "    num[i] = min(num)\n",
    "    num[k] = temp\n",
    "    count += 1\n",
    "print(count)\n"
   ]
  }
 ],
 "metadata": {
  "kernelspec": {
   "display_name": "Python 3 (ipykernel)",
   "language": "python",
   "name": "python3"
  },
  "language_info": {
   "codemirror_mode": {
    "name": "ipython",
    "version": 3
   },
   "file_extension": ".py",
   "mimetype": "text/x-python",
   "name": "python",
   "nbconvert_exporter": "python",
   "pygments_lexer": "ipython3",
   "version": "3.11.7"
  }
 },
 "nbformat": 4,
 "nbformat_minor": 5
}
