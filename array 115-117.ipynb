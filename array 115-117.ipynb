{
 "cells": [
  {
   "cell_type": "code",
   "execution_count": 1,
   "id": "15f1e1eb-9547-420a-83a8-445d6cec04fe",
   "metadata": {},
   "outputs": [
    {
     "name": "stdin",
     "output_type": "stream",
     "text": [
      " 5\n",
      " 1 2 3 2 1\n"
     ]
    },
    {
     "name": "stdout",
     "output_type": "stream",
     "text": [
      "3\n"
     ]
    }
   ],
   "source": [
    "# - 115 - array - Given an array of N elements,find the maximum length of increasing continuous sub-array.If it is not found print '-1'.\n",
    "\n",
    "n = int(input())\n",
    "num = list(map(int, input().split()))\n",
    "\n",
    "sublists_list = []\n",
    "\n",
    "for i in range(len(num)):\n",
    "    for j in range(i + 1, len(num) + 1):\n",
    "        sublists_list.append(num[i:j])\n",
    "max_len = 0\n",
    "for sublist in sublists_list:\n",
    "    is_increasing = True\n",
    "    for k in range(len(sublist) - 1):\n",
    "        if sublist[k] >= sublist[k + 1]:\n",
    "            is_increasing = False\n",
    "            break\n",
    "    if is_increasing:\n",
    "        if len(sublist) > max_len:\n",
    "            max_len = len(sublist)\n",
    "if max_len > 1:\n",
    "    print(max_len)\n",
    "else:\n",
    "    print(-1)\n",
    "            "
   ]
  },
  {
   "cell_type": "code",
   "execution_count": 6,
   "id": "e73692a6-3090-425a-a259-c1ad665e5855",
   "metadata": {},
   "outputs": [
    {
     "name": "stdin",
     "output_type": "stream",
     "text": [
      " 5\n",
      " 1 4 4 4 5\n"
     ]
    },
    {
     "name": "stdout",
     "output_type": "stream",
     "text": [
      "3\n"
     ]
    }
   ],
   "source": [
    "# 116 - array - Given an array A of N elements, count the number of distinct pairs (i,j) \n",
    "# such that i < j and A[i] < A[j].If no such pairs can be made print -1\n",
    "\n",
    "n = int(input())\n",
    "a = list(map(int, input().split()))\n",
    "# using list comprehension to remove duplicated from list\n",
    "res = []\n",
    "[res.append(x) for x in a if x not in res]\n",
    "count = 0\n",
    "\n",
    "for i in range(len(res)):\n",
    "    for j in range(i + 1, len(res)):\n",
    "        if res[i] < res[j]:\n",
    "            count += 1\n",
    "\n",
    "if count == 0:\n",
    "    print(-1)\n",
    "elif count > 0:\n",
    "    print(count)"
   ]
  },
  {
   "cell_type": "code",
   "execution_count": 8,
   "id": "b6b95f3a-d77b-4b5b-a5a0-e939f7e8d081",
   "metadata": {},
   "outputs": [
    {
     "name": "stdin",
     "output_type": "stream",
     "text": [
      " 8\n",
      " 1 6 5 3 2 4 10 12\n"
     ]
    },
    {
     "name": "stdout",
     "output_type": "stream",
     "text": [
      "6\n"
     ]
    }
   ],
   "source": [
    "# 117 - array - You are given an array.Your task is to print the length of longest consecutive subsequence. \n",
    "# A longest consecutive subsequence is such that next element differ from previous by 1.\n",
    "n = int(input())\n",
    "num = list(map(int, input().split()))\n",
    "num.sort()\n",
    "count = 0\n",
    "for i in range(len(num)-1):\n",
    "    if (num[i+1] - num[i]) == 1:\n",
    "        count += 1\n",
    "print(count+1)"
   ]
  }
 ],
 "metadata": {
  "kernelspec": {
   "display_name": "Python 3 (ipykernel)",
   "language": "python",
   "name": "python3"
  },
  "language_info": {
   "codemirror_mode": {
    "name": "ipython",
    "version": 3
   },
   "file_extension": ".py",
   "mimetype": "text/x-python",
   "name": "python",
   "nbconvert_exporter": "python",
   "pygments_lexer": "ipython3",
   "version": "3.11.7"
  }
 },
 "nbformat": 4,
 "nbformat_minor": 5
}
