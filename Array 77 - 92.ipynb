{
 "cells": [
  {
   "cell_type": "code",
   "execution_count": 1,
   "id": "149cb2d3-7021-4a5e-8a04-75974f52a321",
   "metadata": {},
   "outputs": [
    {
     "name": "stdin",
     "output_type": "stream",
     "text": [
      " 5 2\n",
      " 1 1 2 4 5\n"
     ]
    },
    {
     "name": "stdout",
     "output_type": "stream",
     "text": [
      "2\n"
     ]
    }
   ],
   "source": [
    "n, k = map(int, input().split())\n",
    "num = list(map(int, input().split()))\n",
    "num = list(set(num))\n",
    "num.sort()\n",
    "print(num[k-1])"
   ]
  },
  {
   "cell_type": "code",
   "execution_count": 2,
   "id": "746fdd27-5506-4de7-88fc-7db84820fc0e",
   "metadata": {},
   "outputs": [
    {
     "name": "stdin",
     "output_type": "stream",
     "text": [
      " 5\n",
      " 3 2 1 2 3\n"
     ]
    },
    {
     "name": "stdout",
     "output_type": "stream",
     "text": [
      "2 3 2 1 3\n"
     ]
    }
   ],
   "source": [
    "# 79 - Given an array of N elements switch(swap) the element with the adjacent element and print the output.\n",
    "n = int(input())\n",
    "arr= list(map(int,input().split()))\n",
    "temp1 = 0\n",
    "temp2 = 0\n",
    "if n%2 == 0:\n",
    "  for i in range(0,n,2):\n",
    "    temp1 = arr[i]\n",
    "    temp2 = arr[i+1]\n",
    "    arr[i] = temp2\n",
    "    arr[i+1] = temp1\n",
    "else:\n",
    "  for i in range(0,n-1,2):\n",
    "    temp1 = arr[i]\n",
    "    temp2 = arr[i+1]\n",
    "    arr[i] = temp2\n",
    "    arr[i+1] = temp1\n",
    "\n",
    "print(*arr)"
   ]
  },
  {
   "cell_type": "code",
   "execution_count": 5,
   "id": "26030ac6-db32-4aac-b97f-be7dadf12cba",
   "metadata": {},
   "outputs": [
    {
     "name": "stdin",
     "output_type": "stream",
     "text": [
      " 1000 0\n"
     ]
    },
    {
     "name": "stdout",
     "output_type": "stream",
     "text": [
      "3\n"
     ]
    }
   ],
   "source": [
    "# 80 - array - Given 2 numbers N and K.Print the number of occurrences of K in N.If K is not found print '-1'.\n",
    "n, k = map(int, input().split())\n",
    "count = 0\n",
    "for i in str(n):\n",
    "    if int(i) == k:\n",
    "        count += 1\n",
    "if count > 0:\n",
    "    print(count)\n",
    "else:\n",
    "    print(-1)"
   ]
  },
  {
   "cell_type": "code",
   "execution_count": 6,
   "id": "a81506a4-6658-42c9-a506-1d4220271f6b",
   "metadata": {},
   "outputs": [
    {
     "name": "stdin",
     "output_type": "stream",
     "text": [
      " 5\n",
      " 1 2 3 4 5\n"
     ]
    },
    {
     "name": "stdout",
     "output_type": "stream",
     "text": [
      "24\n"
     ]
    }
   ],
   "source": [
    "# 81 - array - Given a number N and an array of N elements, find the sum of the sums obtained by considering all consecutive pairs of adjacent elements.\n",
    "# INPUT:\n",
    "# 1 2 3 4 5\n",
    "# OUTPUT:\n",
    "# 24((1+2)+(2+3)+(3+4)+(4+5))\n",
    "n = input()\n",
    "num = list(map(int, input().split()))\n",
    "sum = 0\n",
    "sum_st = \"\"\n",
    "for i in range(len(num)-1):\n",
    "    sum += num[i]+num[i+1]\n",
    "print(sum)"
   ]
  },
  {
   "cell_type": "code",
   "execution_count": 7,
   "id": "cc4eb30e-dd12-4d49-ada6-1ad230f65166",
   "metadata": {},
   "outputs": [
    {
     "name": "stdin",
     "output_type": "stream",
     "text": [
      " 1100100\n"
     ]
    },
    {
     "name": "stdout",
     "output_type": "stream",
     "text": [
      "64\n"
     ]
    }
   ],
   "source": [
    "# 82 - Given a binary number convert it to hexadecimal.\n",
    "\n",
    "binary_num = input()\n",
    "while len(binary_num) % 4 != 0:\n",
    "        binary_num = '0' + binary_num\n",
    "\n",
    "binary_to_hex_dict = {\n",
    "    '0000': '0',\n",
    "    '0001': '1',\n",
    "    '0010': '2',\n",
    "    '0011': '3',\n",
    "    '0100': '4',\n",
    "    '0101': '5',\n",
    "    '0110': '6',\n",
    "    '0111': '7',\n",
    "    '1000': '8',\n",
    "    '1001': '9',\n",
    "    '1010': 'A',\n",
    "    '1011': 'B',\n",
    "    '1100': 'C',\n",
    "    '1101': 'D',\n",
    "    '1110': 'E',\n",
    "    '1111': 'F'\n",
    "}\n",
    "hex_num = ''\n",
    "for i in range(0, len(binary_num), 4):\n",
    "    quad = binary_num[i:i + 4]\n",
    "    hex_num += binary_to_hex_dict[quad]\n",
    "\n",
    "print(hex_num.lstrip('0'))"
   ]
  },
  {
   "cell_type": "code",
   "execution_count": 10,
   "id": "415fcaed-ec01-4bae-b448-18d254e51711",
   "metadata": {},
   "outputs": [
    {
     "name": "stdin",
     "output_type": "stream",
     "text": [
      " 5\n",
      " 1 2 3 4 5\n"
     ]
    },
    {
     "name": "stdout",
     "output_type": "stream",
     "text": [
      "15\n"
     ]
    }
   ],
   "source": [
    "#\n",
    "#  In general, for an array/string of size n, there are n*(n+1)/2 non-empty subarrays/substrings.\n",
    "n = int(input())\n",
    "num = list(map(int, input().split()))\n",
    "print(int(n*(n+1)/2))"
   ]
  },
  {
   "cell_type": "code",
   "execution_count": 13,
   "id": "5f838d83-949f-41b6-8bc0-196024629028",
   "metadata": {},
   "outputs": [
    {
     "name": "stdin",
     "output_type": "stream",
     "text": [
      " 5\n",
      " code\n",
      " overload\n",
      " vishal\n",
      " sundar\n",
      " anish\n"
     ]
    },
    {
     "name": "stdout",
     "output_type": "stream",
     "text": [
      "no\n"
     ]
    }
   ],
   "source": [
    "n = int(input())\n",
    "n_str = []\n",
    "count = 0\n",
    "for i in range(n):\n",
    "    n_str.append(input())\n",
    "for i in range(len(n_str)-1):\n",
    "    if n_str[i] == n_str[i+1]:\n",
    "        count += 1\n",
    "if count > 0:\n",
    "    print('yes')\n",
    "else:\n",
    "    print('no')"
   ]
  },
  {
   "cell_type": "code",
   "execution_count": 24,
   "id": "6ee0f9a3-d839-4509-99c8-b1fa966116b3",
   "metadata": {},
   "outputs": [
    {
     "name": "stdin",
     "output_type": "stream",
     "text": [
      " 5 7\n",
      " 1 2 3 4 5 \n"
     ]
    },
    {
     "name": "stdout",
     "output_type": "stream",
     "text": [
      "no\n"
     ]
    }
   ],
   "source": [
    "# 86 - array - Given an array of numbers and another number k. Find whether K exists and the number of time k repeats. \n",
    "# If it does not exist just print no.\n",
    "n, k = map(int, input().split())\n",
    "num = list(map(int, input().split()))\n",
    "res = {}\n",
    "for i in range(len(num)):\n",
    "    if num[i] in res:\n",
    "        res[num[i]] +=1\n",
    "    else:\n",
    "        res[num[i]] = 1\n",
    "\n",
    "flag = False\n",
    "for key,val in res.items():\n",
    "    if key == k:\n",
    "        print(f\"yes {val}\")\n",
    "        flag = True\n",
    "        break\n",
    "if flag == False:\n",
    "    print(\"no\")\n"
   ]
  },
  {
   "cell_type": "code",
   "execution_count": 26,
   "id": "5f93c1f5-f787-4099-9f04-8b3b98a6f48c",
   "metadata": {},
   "outputs": [
    {
     "name": "stdin",
     "output_type": "stream",
     "text": [
      " 5\n",
      " 1 1 3 0 5\n"
     ]
    },
    {
     "name": "stdout",
     "output_type": "stream",
     "text": [
      "1 3 3 5\n"
     ]
    }
   ],
   "source": [
    "# - 87- array - Given a number N followed by N elements. for every 2 consecutive numbers print the maximum of the 2.\n",
    "\n",
    "n = input()\n",
    "num = list(map(int, input().split()))\n",
    "res = []\n",
    "for i in range(len(num)-1):\n",
    "    if num[i] == num[i+1]:\n",
    "        res.append(num[i])\n",
    "    elif num[i] > num[i+1]:\n",
    "        res.append(num[i])\n",
    "    elif num[i] < num[i+1]:\n",
    "        res.append(num[i+1])\n",
    "print(*res)"
   ]
  },
  {
   "cell_type": "code",
   "execution_count": 28,
   "id": "8093e818-11f6-4f73-b73c-5821cc4a6b34",
   "metadata": {},
   "outputs": [
    {
     "name": "stdin",
     "output_type": "stream",
     "text": [
      " 276\n"
     ]
    },
    {
     "name": "stdout",
     "output_type": "stream",
     "text": [
      "0 0 1 0 1 0 0 0 1\n",
      "3\n"
     ]
    }
   ],
   "source": [
    "# - 88 Array - Given a number N, find the number of ones in its binary representation.\n",
    "n = int(input())\n",
    "bin = []\n",
    "rem = 0\n",
    "while n != 0:\n",
    "    rem = n%2\n",
    "    bin.append(rem)\n",
    "    n = n//2\n",
    "print(*bin)\n",
    "print(bin.count(1))"
   ]
  },
  {
   "cell_type": "code",
   "execution_count": 31,
   "id": "0a8f2d12-96bd-45ee-a3db-0c8ec2b30ff8",
   "metadata": {},
   "outputs": [
    {
     "name": "stdin",
     "output_type": "stream",
     "text": [
      " 5 4\n",
      " 1 2 3 4 5 1 2 3 4\n"
     ]
    },
    {
     "name": "stdout",
     "output_type": "stream",
     "text": [
      "1 2 3 4\n"
     ]
    }
   ],
   "source": [
    "# Given 2 numbers N and M followed by N numbers and M numbers, print the common numbers in sorted order.\n",
    "\n",
    "n, m = map(int, input().split())\n",
    "num = list(map(int, input().split()))\n",
    "num1 = num[:n]\n",
    "num2 = num[-m:]\n",
    "res = []\n",
    "for i in range(max(len(num1), len(num2))):\n",
    "    if num1[i] in num2:\n",
    "        res.append(num[i])\n",
    "res.sort()\n",
    "print(*res)"
   ]
  },
  {
   "cell_type": "code",
   "execution_count": 32,
   "id": "59a7ce40-d548-49bf-94b4-869b9ca9baa5",
   "metadata": {},
   "outputs": [
    {
     "name": "stdin",
     "output_type": "stream",
     "text": [
      " string 2\n"
     ]
    },
    {
     "name": "stdout",
     "output_type": "stream",
     "text": [
      "sTrInG\n"
     ]
    }
   ],
   "source": [
    "# 91 array - Given a string and a number K, change every kth character to uppercase from beginning in string.\n",
    "s, k = map(str, input().split())\n",
    "k = int(k)\n",
    "res = ''\n",
    "if k == 0:\n",
    "    print(s)\n",
    "    quit()\n",
    "    \n",
    "for i in range(len(s)):\n",
    "    if (i+1)%k == 0:\n",
    "        res = res + s[i].upper()\n",
    "    else:\n",
    "        res = res + s[i]\n",
    "print(res)\n",
    "    "
   ]
  },
  {
   "cell_type": "code",
   "execution_count": null,
   "id": "214758d1-20b4-442a-9b75-87ec6c421803",
   "metadata": {},
   "outputs": [],
   "source": [
    "# 92 - array - A number is given as input.Find the maximum number that can be formed using the digits.\n",
    "n = input()\n",
    "list_n = []\n",
    "list_n[:] = n\n",
    "list_n.sort(reverse = True)\n",
    "print(''.join(list_n))"
   ]
  }
 ],
 "metadata": {
  "kernelspec": {
   "display_name": "Python 3 (ipykernel)",
   "language": "python",
   "name": "python3"
  },
  "language_info": {
   "codemirror_mode": {
    "name": "ipython",
    "version": 3
   },
   "file_extension": ".py",
   "mimetype": "text/x-python",
   "name": "python",
   "nbconvert_exporter": "python",
   "pygments_lexer": "ipython3",
   "version": "3.11.7"
  }
 },
 "nbformat": 4,
 "nbformat_minor": 5
}
